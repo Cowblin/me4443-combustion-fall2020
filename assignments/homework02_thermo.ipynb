{
 "cells": [
  {
   "cell_type": "markdown",
   "metadata": {},
   "source": [
    "# ME 4443 - Homework 2\n",
    "\n",
    " - **Due date: January 30th, 2020**\n",
    " - **Assignment:** Undergraduate students may work in pairs (it is up to you to find a partner); graduate students should submit individual solutions. \n",
    " - **Submission:** Remove *all* superfluous instructions, make sure that all relevant code, output and comments are present and print the page to a pdf. PDF's should be uploaded to Gradescope.\n",
    "   \n",
    "**Important:** When starting, save this notebook under a new file name to prevent data loss (use `File > Make a Copy ...` in the Menu bar).\n",
    "\n",
    "Below, you will see cells that are text (formatted using *Markdown*) alternating with cells that can be evaluated (contain Python *Code*). There is a dropdown box below the menu bar that allows you to switch between the two. "
   ]
  },
  {
   "cell_type": "code",
   "execution_count": 1,
   "metadata": {},
   "outputs": [
    {
     "data": {
      "text/plain": [
       "'2.4.0'"
      ]
     },
     "execution_count": 1,
     "metadata": {},
     "output_type": "execute_result"
    }
   ],
   "source": [
    "# ensure that all relevant modules are loaded\n",
    "import cantera as ct\n",
    "import numpy as np\n",
    "import matplotlib.pyplot as plt\n",
    "ct.__version__"
   ]
  },
  {
   "cell_type": "markdown",
   "metadata": {},
   "source": [
    "## Gas Definition\n",
    "\n",
    "The following defines a `Solution` object that represents air (modeled as an ideal gas)"
   ]
  },
  {
   "cell_type": "code",
   "execution_count": 2,
   "metadata": {},
   "outputs": [],
   "source": [
    "gas = ct.Solution('air.xml')"
   ]
  },
  {
   "cell_type": "code",
   "execution_count": 3,
   "metadata": {},
   "outputs": [
    {
     "name": "stdout",
     "output_type": "stream",
     "text": [
      "\n",
      "  air:\n",
      "\n",
      "       temperature             300  K\n",
      "          pressure          101325  Pa\n",
      "           density         1.17681  kg/m^3\n",
      "  mean mol. weight         28.9697  amu\n",
      "\n",
      "                          1 kg            1 kmol\n",
      "                       -----------      ------------\n",
      "          enthalpy            1894        5.487e+04     J\n",
      "   internal energy          -84208       -2.439e+06     J\n",
      "           entropy            6866        1.989e+05     J/K\n",
      "    Gibbs function     -2.0579e+06       -5.962e+07     J\n",
      " heat capacity c_p          1003.1        2.906e+04     J/K\n",
      " heat capacity c_v          716.05        2.074e+04     J/K\n",
      "\n",
      "                           X                 Y          Chem. Pot. / RT\n",
      "                     -------------     ------------     ------------\n",
      "                O2           0.21         0.231957         -26.2344\n",
      "                N2           0.78         0.754253         -23.2816\n",
      "                AR           0.01        0.0137896         -23.2152\n",
      "     [   +5 minor]              0                0\n",
      "\n"
     ]
    }
   ],
   "source": [
    "# display some gas properties\n",
    "gas()"
   ]
  },
  {
   "cell_type": "code",
   "execution_count": 4,
   "metadata": {},
   "outputs": [
    {
     "data": {
      "text/plain": [
       "['O', 'O2', 'N', 'NO', 'NO2', 'N2O', 'N2', 'AR']"
      ]
     },
     "execution_count": 4,
     "metadata": {},
     "output_type": "execute_result"
    }
   ],
   "source": [
    "# display available species names\n",
    "gas.species_names"
   ]
  },
  {
   "cell_type": "markdown",
   "metadata": {},
   "source": [
    "## Thermodynamic properties"
   ]
  },
  {
   "cell_type": "markdown",
   "metadata": {},
   "source": [
    "### (a) Enthalpies - Pure Gases\n",
    "\n",
    "**Undergraduate/Graduate Students:**\n",
    "\n",
    "Illustrate enthalpies (mole basis) for the following gases as a function of temperature:\n",
    " \n",
    " 1. Pure Oxygen (O2)\n",
    " 2. Pure Nitrogen (N2)\n",
    " \n",
    "**All lines/symbols should be plotted in the same Figure**, which should also be appropriately labeled. \n",
    " \n",
    "Use the following stub as the basis for your answers:\n",
    " \n",
    "```python\n",
    "gas = ct.Solution('air.xml')\n",
    "\n",
    "P = ct.one_atm\n",
    "X = ??? # replace this by relevant compositions\n",
    "N = 100\n",
    "Ts = np.linspace(200, 2500, N)\n",
    "hs = np.zeros_like(Ts)\n",
    "\n",
    "for i in range(N):\n",
    "    gas.TPX = Ts[i], P, X,\n",
    "    hs[i] = ??? # replace with correct command\n",
    "    \n",
    "ax = plt.gca() # this forces the creation of a new axis for plotting\n",
    "ax.plot(Ts, hs, label='description of your mixture', linestyle='-')\n",
    "\n",
    "# now, hardcode some results from the back of your textbook\n",
    "T_book = [300, 800, 1300, 1800, 2300]\n",
    "h_book = [???] # look up values in Appendix A\n",
    "\n",
    "ax.plot(T_book, h_book, 'kx', label='some other description')\n",
    "plt.legend()\n",
    "# then format the figure, i.e. add legend, axis labels, titles, etc. ...\n",
    "\n",
    "```\n",
    "**Graduate students:**\n",
    "\n",
    "In addition to the above, plot enthalpies based on polynomials provided in Appendix A13. Note that there are two branches (one for low, one for high temperatures). Add curves to the same figures and use `'--'` for the line style.\n",
    "\n",
    "Hint: you can define functions as follows (note that `*a` stands for a list of function arguments):\n",
    "\n",
    "```python\n",
    "# inline implementation of a cubic polynomial (i.e. `a` has 4 entries)\n",
    "poly_a = lambda T, *a: a[0] + a[1]*T + a[2]*T**2 + a[3]*T**3\n",
    "\n",
    "# same using a regular function definition\n",
    "def poly_b(T, *a):\n",
    "    return a[0] + a[1]*T + a[2]*T**2 + a[3]*T**3\n",
    "\n",
    "# both versions allow for vectorized evaluation\n",
    "ps = poly_a(Ts, 1., 2., 3., 4.)\n",
    "\n",
    "```\n",
    "**All:**\n",
    "\n",
    "Provide a short statement discussing your observations."
   ]
  },
  {
   "cell_type": "code",
   "execution_count": 2,
   "metadata": {},
   "outputs": [
    {
     "name": "stdout",
     "output_type": "stream",
     "text": [
      "present your results here ...\n"
     ]
    }
   ],
   "source": [
    "# develop you code and present your results here\n"
   ]
  },
  {
   "cell_type": "markdown",
   "metadata": {},
   "source": [
    "### (b) Specific Heats - Gas Mixtures\n",
    "\n",
    "**Undergraduate/Graduate Students:**\n",
    "\n",
    "Illustrate $\\bar{c}_{p,i}$ values for the following gases as a function of temperature:\n",
    " \n",
    " 1. Pure Oxygen (O2)\n",
    " 2. Pure Nitrogen (N2)\n",
    " 3. Simplified Air (O2:N2 = 1:3.76)\n",
    " 4. Actual Air (exact composition)\n",
    "\n",
    "Prepare two plots: one showing a comparison of the mixtures (*exact* values obtained from cantera), and a second one where you show the error (in %) if you were to approximate $\\bar{c}_{p,i}$ as a constant (your choice of reference temperature). You may use the code stub provided above as a starting point.\n",
    "\n",
    "**Graduate students:**\n",
    "\n",
    "Again, include results of the polynomial approximations of Appendix A.13.\n",
    "\n",
    "**All:**\n",
    "\n",
    "Provide a short statement discussing your observations."
   ]
  },
  {
   "cell_type": "code",
   "execution_count": 5,
   "metadata": {},
   "outputs": [],
   "source": [
    "# develop you code and present your results here\n"
   ]
  },
  {
   "cell_type": "code",
   "execution_count": null,
   "metadata": {},
   "outputs": [],
   "source": []
  }
 ],
 "metadata": {
  "kernelspec": {
   "display_name": "Python 3",
   "language": "python",
   "name": "python3"
  },
  "language_info": {
   "codemirror_mode": {
    "name": "ipython",
    "version": 3
   },
   "file_extension": ".py",
   "mimetype": "text/x-python",
   "name": "python",
   "nbconvert_exporter": "python",
   "pygments_lexer": "ipython3",
   "version": "3.7.6"
  }
 },
 "nbformat": 4,
 "nbformat_minor": 2
}
